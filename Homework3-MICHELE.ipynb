{
 "cells": [
  {
   "cell_type": "code",
   "execution_count": 1,
   "metadata": {},
   "outputs": [],
   "source": [
    "from bs4 import BeautifulSoup\n",
    "import requests\n",
    "from selenium import webdriver\n",
    "from selenium.webdriver.common.keys import Keys\n",
    "from webdriver_manager.firefox import GeckoDriverManager\n",
    "import spacy\n",
    "import time\n",
    "import os\n",
    "from langdetect import detect\n",
    "import nltk\n",
    "import csv\n",
    "import ast\n",
    "import timeit\n",
    "import pandas as pd\n",
    "import math"
   ]
  },
  {
   "cell_type": "code",
   "execution_count": 32,
   "metadata": {},
   "outputs": [
    {
     "name": "stderr",
     "output_type": "stream",
     "text": [
      "[WDM] - Driver [/home/michele/.wdm/drivers/geckodriver/linux64/v0.28.0/geckodriver] found in cache\n"
     ]
    }
   ],
   "source": [
    "href = \"https://www.goodreads.com/list/show/1.Best_Books_Ever?page=1\"\n",
    "driver = webdriver.Firefox(executable_path = GeckoDriverManager().install())"
   ]
  },
  {
   "cell_type": "code",
   "execution_count": 130,
   "metadata": {},
   "outputs": [],
   "source": [
    "def get_urls(href, driver, pages_num):\n",
    "    \n",
    "    href = href[0:-1]\n",
    "    \n",
    "    file = open(\"urls.txt\", \"w\")\n",
    "    \n",
    "    for i in range(1, pages_num + 1):\n",
    "        \n",
    "        new_href = href + str(i)\n",
    "        driver.get(new_href)\n",
    "        page_soup = BeautifulSoup(driver.page_source, features=\"lxml\")\n",
    "        links_list = page_soup.find_all(\"a\", {'class' : 'bookTitle'}, itemprop = \"url\")\n",
    "        \n",
    "        for link in links_list:\n",
    "            url = link.get(\"href\")\n",
    "            file.write(\"https://www.goodreads.com\" + url + \"\\n\")\n",
    "        \n",
    "        print(\" | \"+str(i), end = \"\")\n",
    "            \n",
    "    file.close()"
   ]
  },
  {
   "cell_type": "code",
   "execution_count": 131,
   "metadata": {
    "scrolled": true
   },
   "outputs": [],
   "source": [
    "#Don't run this cell! It delete and rewrite urls.txt and it takes time.\n",
    "#get_urls(href, driver, 300)"
   ]
  },
  {
   "cell_type": "code",
   "execution_count": 37,
   "metadata": {},
   "outputs": [],
   "source": [
    "def download_htmls(href, driver, from_page, to_page):\n",
    "    \n",
    "    urls_file = open(\"urls2.txt\", \"r\")\n",
    "    urls_count = ((from_page-1)*100)\n",
    "    num_page = from_page-1\n",
    "    \n",
    "    for url in urls_file:\n",
    "        \n",
    "        if (urls_count % 100) == 0:\n",
    "            num_page += 1\n",
    "            if num_page == to_page+1:\n",
    "                break\n",
    "            os.mkdir(\"page\" + str(num_page))\n",
    "        \n",
    "        driver.get(url)\n",
    "        \n",
    "        file = open(\"page\"+str(num_page)+\"/\"+\"article_\"+str(urls_count+1)+\".html\", \"w\")\n",
    "        file.write(driver.page_source)\n",
    "        file.close()\n",
    "        \n",
    "        urls_count += 1\n",
    "        print(\" | \"+str(urls_count), end = \"\")\n",
    "            \n",
    "    urls_file.close()"
   ]
  },
  {
   "cell_type": "code",
   "execution_count": 39,
   "metadata": {
    "scrolled": true
   },
   "outputs": [],
   "source": [
    "#Download 30000 html.\n",
    "download_htmls(href, driver, 101, 200)"
   ]
  },
  {
   "cell_type": "code",
   "execution_count": null,
   "metadata": {},
   "outputs": [],
   "source": []
  }
 ],
 "metadata": {
  "kernelspec": {
   "display_name": "Python 3",
   "language": "python",
   "name": "python3"
  },
  "language_info": {
   "codemirror_mode": {
    "name": "ipython",
    "version": 3
   },
   "file_extension": ".py",
   "mimetype": "text/x-python",
   "name": "python",
   "nbconvert_exporter": "python",
   "pygments_lexer": "ipython3",
   "version": "3.8.3"
  }
 },
 "nbformat": 4,
 "nbformat_minor": 4
}
